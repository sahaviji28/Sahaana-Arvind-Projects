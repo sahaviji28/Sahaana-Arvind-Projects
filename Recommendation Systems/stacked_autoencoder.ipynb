{
 "cells": [
  {
   "cell_type": "markdown",
   "metadata": {
    "id": "r_T6DwmhLeEU"
   },
   "source": [
    "# Stacked AutoEncoders"
   ]
  },
  {
   "cell_type": "markdown",
   "metadata": {
    "id": "mRfllOFCeNIe"
   },
   "source": [
    "### Importing the libraries"
   ]
  },
  {
   "cell_type": "code",
   "execution_count": 3,
   "metadata": {
    "id": "ZVdzTkqHehem"
   },
   "outputs": [],
   "source": [
    "import numpy as np\n",
    "import pandas as pd\n",
    "import torch\n",
    "import torch.nn as nn\n",
    "import torch.nn.parallel\n",
    "import torch.optim as optim\n",
    "import torch.utils.data\n",
    "from torch.autograd import Variable"
   ]
  },
  {
   "cell_type": "markdown",
   "metadata": {
    "id": "ncWa_a4Zek9k"
   },
   "source": [
    "### Importing the dataset"
   ]
  },
  {
   "cell_type": "code",
   "execution_count": 5,
   "metadata": {
    "id": "bvcjT5Uqeqrj"
   },
   "outputs": [],
   "source": [
    "movies = pd.read_csv('ml-1m/movies.dat', sep = '::', header = None, engine = 'python', encoding = 'latin-1')\n",
    "users = pd.read_csv('ml-1m/users.dat', sep = '::', header = None, engine = 'python', encoding = 'latin-1')\n",
    "ratings = pd.read_csv('ml-1m/ratings.dat', sep = '::', header = None, engine = 'python', encoding = 'latin-1')"
   ]
  },
  {
   "cell_type": "markdown",
   "metadata": {
    "id": "VxJyeJVSeuYF"
   },
   "source": [
    "### Preparing the training set and the test set"
   ]
  },
  {
   "cell_type": "code",
   "execution_count": 7,
   "metadata": {
    "id": "bXy3oK_5e26x"
   },
   "outputs": [],
   "source": [
    "training_set = pd.read_csv('ml-100k/u1.base', delimiter = '\\t')\n",
    "training_set = np.array(training_set, dtype = 'int')\n",
    "test_set = pd.read_csv('ml-100k/u1.test', delimiter = '\\t')\n",
    "test_set = np.array(test_set, dtype = 'int')"
   ]
  },
  {
   "cell_type": "markdown",
   "metadata": {
    "id": "t6AZsqV0fBth"
   },
   "source": [
    "### Getting the number of users and movies"
   ]
  },
  {
   "cell_type": "code",
   "execution_count": 9,
   "metadata": {
    "id": "pjYBgQJ4fHXp"
   },
   "outputs": [],
   "source": [
    "nb_users = int(max(max(training_set[:,0]), max(test_set[:,0])))\n",
    "nb_movies = int(max(max(training_set[:,1]), max(test_set[:,1])))"
   ]
  },
  {
   "cell_type": "markdown",
   "metadata": {
    "id": "BduAm9XTfJ5M"
   },
   "source": [
    "### Converting the data into an array with users in rows and movies in columns"
   ]
  },
  {
   "cell_type": "code",
   "execution_count": 11,
   "metadata": {
    "id": "2hvNwdPwfNJa"
   },
   "outputs": [],
   "source": [
    "def convert(data):\n",
    "    new_data = []\n",
    "    for id_users in range(1, nb_users + 1):\n",
    "        id_movies = data[:,1][data[:,0] == id_users]\n",
    "        id_ratings = data[:,2][data[:,0] == id_users]\n",
    "        ratings = np.zeros(nb_movies)\n",
    "        ratings[id_movies - 1] = id_ratings\n",
    "        new_data.append(list(ratings))\n",
    "    return new_data\n",
    "training_set = convert(training_set)\n",
    "test_set = convert(test_set)"
   ]
  },
  {
   "cell_type": "markdown",
   "metadata": {
    "id": "eDMTdRohfca9"
   },
   "source": [
    "### Converting the data into Torch tensors"
   ]
  },
  {
   "cell_type": "code",
   "execution_count": 13,
   "metadata": {
    "id": "dCrtcCCqfgNc"
   },
   "outputs": [],
   "source": [
    "training_set = torch.FloatTensor(training_set)\n",
    "test_set = torch.FloatTensor(test_set)"
   ]
  },
  {
   "cell_type": "markdown",
   "metadata": {
    "id": "68DIciQ1fifc"
   },
   "source": [
    "### Creating the architecture of the Neural Network"
   ]
  },
  {
   "cell_type": "code",
   "execution_count": 15,
   "metadata": {
    "id": "U3JKRMIXfmTr"
   },
   "outputs": [],
   "source": [
    "class SAE(nn.Module):\n",
    "    def __init__(self, ):\n",
    "        # Defining full connections and the activation function\n",
    "        super(SAE, self).__init__()\n",
    "        self.fc1 = nn.Linear(nb_movies, 20)\n",
    "        self.fc2 = nn.Linear(20, 10) # Encoder layer\n",
    "        self.fc3 = nn.Linear(10, 20) # Decoder layer\n",
    "        self.fc4 = nn.Linear(20, nb_movies)\n",
    "        self.activation = nn.Sigmoid()\n",
    "        \n",
    "    def forward(self, x):\n",
    "        x = self.activation(self.fc1(x))\n",
    "        x = self.activation(self.fc2(x))\n",
    "        x = self.activation(self.fc3(x))\n",
    "        x = self.fc4(x)\n",
    "        return x\n",
    "sae = SAE()\n",
    "criterion = nn.MSELoss()\n",
    "optimizer = optim.RMSprop(sae.parameters(), lr = 0.01, weight_decay = 0.5)"
   ]
  },
  {
   "cell_type": "markdown",
   "metadata": {
    "id": "Zn8Zl34Ofpe_"
   },
   "source": [
    "### Training the SAE"
   ]
  },
  {
   "cell_type": "code",
   "execution_count": 19,
   "metadata": {
    "colab": {
     "base_uri": "https://localhost:8080/",
     "height": 233
    },
    "executionInfo": {
     "elapsed": 427,
     "status": "error",
     "timestamp": 1727886369476,
     "user": {
      "displayName": "Hadelin de Ponteves",
      "userId": "15047218817161520419"
     },
     "user_tz": -240
    },
    "id": "89ACdnopfwrG",
    "outputId": "a1843411-22aa-4816-ca7b-513929b2f28e"
   },
   "outputs": [
    {
     "name": "stdout",
     "output_type": "stream",
     "text": [
      "epoch: 1 loss: tensor(1.7671)\n",
      "epoch: 2 loss: tensor(1.0966)\n",
      "epoch: 3 loss: tensor(1.0534)\n",
      "epoch: 4 loss: tensor(1.0382)\n",
      "epoch: 5 loss: tensor(1.0308)\n",
      "epoch: 6 loss: tensor(1.0267)\n",
      "epoch: 7 loss: tensor(1.0236)\n",
      "epoch: 8 loss: tensor(1.0221)\n",
      "epoch: 9 loss: tensor(1.0206)\n",
      "epoch: 10 loss: tensor(1.0195)\n",
      "epoch: 11 loss: tensor(1.0190)\n",
      "epoch: 12 loss: tensor(1.0184)\n",
      "epoch: 13 loss: tensor(1.0180)\n",
      "epoch: 14 loss: tensor(1.0174)\n",
      "epoch: 15 loss: tensor(1.0172)\n",
      "epoch: 16 loss: tensor(1.0170)\n",
      "epoch: 17 loss: tensor(1.0169)\n",
      "epoch: 18 loss: tensor(1.0165)\n",
      "epoch: 19 loss: tensor(1.0165)\n",
      "epoch: 20 loss: tensor(1.0162)\n",
      "epoch: 21 loss: tensor(1.0160)\n",
      "epoch: 22 loss: tensor(1.0157)\n",
      "epoch: 23 loss: tensor(1.0159)\n",
      "epoch: 24 loss: tensor(1.0159)\n",
      "epoch: 25 loss: tensor(1.0157)\n",
      "epoch: 26 loss: tensor(1.0158)\n",
      "epoch: 27 loss: tensor(1.0155)\n",
      "epoch: 28 loss: tensor(1.0152)\n",
      "epoch: 29 loss: tensor(1.0129)\n",
      "epoch: 30 loss: tensor(1.0117)\n",
      "epoch: 31 loss: tensor(1.0094)\n",
      "epoch: 32 loss: tensor(1.0095)\n",
      "epoch: 33 loss: tensor(1.0054)\n",
      "epoch: 34 loss: tensor(1.0050)\n",
      "epoch: 35 loss: tensor(1.0012)\n",
      "epoch: 36 loss: tensor(1.0002)\n",
      "epoch: 37 loss: tensor(0.9965)\n",
      "epoch: 38 loss: tensor(0.9950)\n",
      "epoch: 39 loss: tensor(0.9916)\n",
      "epoch: 40 loss: tensor(0.9921)\n",
      "epoch: 41 loss: tensor(0.9886)\n",
      "epoch: 42 loss: tensor(0.9867)\n",
      "epoch: 43 loss: tensor(0.9842)\n",
      "epoch: 44 loss: tensor(0.9837)\n",
      "epoch: 45 loss: tensor(0.9820)\n",
      "epoch: 46 loss: tensor(0.9807)\n",
      "epoch: 47 loss: tensor(0.9820)\n",
      "epoch: 48 loss: tensor(0.9811)\n",
      "epoch: 49 loss: tensor(0.9777)\n",
      "epoch: 50 loss: tensor(0.9772)\n",
      "epoch: 51 loss: tensor(0.9710)\n",
      "epoch: 52 loss: tensor(0.9798)\n",
      "epoch: 53 loss: tensor(0.9753)\n",
      "epoch: 54 loss: tensor(0.9753)\n",
      "epoch: 55 loss: tensor(0.9720)\n",
      "epoch: 56 loss: tensor(0.9685)\n",
      "epoch: 57 loss: tensor(0.9660)\n",
      "epoch: 58 loss: tensor(0.9673)\n",
      "epoch: 59 loss: tensor(0.9674)\n",
      "epoch: 60 loss: tensor(0.9705)\n",
      "epoch: 61 loss: tensor(0.9644)\n",
      "epoch: 62 loss: tensor(0.9609)\n",
      "epoch: 63 loss: tensor(0.9609)\n",
      "epoch: 64 loss: tensor(0.9612)\n",
      "epoch: 65 loss: tensor(0.9588)\n",
      "epoch: 66 loss: tensor(0.9616)\n",
      "epoch: 67 loss: tensor(0.9554)\n",
      "epoch: 68 loss: tensor(0.9553)\n",
      "epoch: 69 loss: tensor(0.9527)\n",
      "epoch: 70 loss: tensor(0.9523)\n",
      "epoch: 71 loss: tensor(0.9495)\n",
      "epoch: 72 loss: tensor(0.9503)\n",
      "epoch: 73 loss: tensor(0.9498)\n",
      "epoch: 74 loss: tensor(0.9503)\n",
      "epoch: 75 loss: tensor(0.9496)\n",
      "epoch: 76 loss: tensor(0.9504)\n",
      "epoch: 77 loss: tensor(0.9443)\n",
      "epoch: 78 loss: tensor(0.9453)\n",
      "epoch: 79 loss: tensor(0.9446)\n",
      "epoch: 80 loss: tensor(0.9451)\n",
      "epoch: 81 loss: tensor(0.9424)\n",
      "epoch: 82 loss: tensor(0.9437)\n",
      "epoch: 83 loss: tensor(0.9404)\n",
      "epoch: 84 loss: tensor(0.9420)\n",
      "epoch: 85 loss: tensor(0.9400)\n",
      "epoch: 86 loss: tensor(0.9404)\n",
      "epoch: 87 loss: tensor(0.9388)\n",
      "epoch: 88 loss: tensor(0.9395)\n",
      "epoch: 89 loss: tensor(0.9378)\n",
      "epoch: 90 loss: tensor(0.9387)\n",
      "epoch: 91 loss: tensor(0.9364)\n",
      "epoch: 92 loss: tensor(0.9375)\n",
      "epoch: 93 loss: tensor(0.9361)\n",
      "epoch: 94 loss: tensor(0.9369)\n",
      "epoch: 95 loss: tensor(0.9346)\n",
      "epoch: 96 loss: tensor(0.9355)\n",
      "epoch: 97 loss: tensor(0.9337)\n",
      "epoch: 98 loss: tensor(0.9345)\n",
      "epoch: 99 loss: tensor(0.9330)\n",
      "epoch: 100 loss: tensor(0.9338)\n",
      "epoch: 101 loss: tensor(0.9327)\n",
      "epoch: 102 loss: tensor(0.9327)\n",
      "epoch: 103 loss: tensor(0.9317)\n",
      "epoch: 104 loss: tensor(0.9318)\n",
      "epoch: 105 loss: tensor(0.9309)\n",
      "epoch: 106 loss: tensor(0.9316)\n",
      "epoch: 107 loss: tensor(0.9308)\n",
      "epoch: 108 loss: tensor(0.9310)\n",
      "epoch: 109 loss: tensor(0.9300)\n",
      "epoch: 110 loss: tensor(0.9303)\n",
      "epoch: 111 loss: tensor(0.9294)\n",
      "epoch: 112 loss: tensor(0.9298)\n",
      "epoch: 113 loss: tensor(0.9289)\n",
      "epoch: 114 loss: tensor(0.9297)\n",
      "epoch: 115 loss: tensor(0.9288)\n",
      "epoch: 116 loss: tensor(0.9290)\n",
      "epoch: 117 loss: tensor(0.9277)\n",
      "epoch: 118 loss: tensor(0.9283)\n",
      "epoch: 119 loss: tensor(0.9271)\n",
      "epoch: 120 loss: tensor(0.9276)\n",
      "epoch: 121 loss: tensor(0.9268)\n",
      "epoch: 122 loss: tensor(0.9273)\n",
      "epoch: 123 loss: tensor(0.9261)\n",
      "epoch: 124 loss: tensor(0.9267)\n",
      "epoch: 125 loss: tensor(0.9254)\n",
      "epoch: 126 loss: tensor(0.9259)\n",
      "epoch: 127 loss: tensor(0.9251)\n",
      "epoch: 128 loss: tensor(0.9257)\n",
      "epoch: 129 loss: tensor(0.9246)\n",
      "epoch: 130 loss: tensor(0.9250)\n",
      "epoch: 131 loss: tensor(0.9240)\n",
      "epoch: 132 loss: tensor(0.9244)\n",
      "epoch: 133 loss: tensor(0.9236)\n",
      "epoch: 134 loss: tensor(0.9237)\n",
      "epoch: 135 loss: tensor(0.9227)\n",
      "epoch: 136 loss: tensor(0.9233)\n",
      "epoch: 137 loss: tensor(0.9228)\n",
      "epoch: 138 loss: tensor(0.9231)\n",
      "epoch: 139 loss: tensor(0.9219)\n",
      "epoch: 140 loss: tensor(0.9222)\n",
      "epoch: 141 loss: tensor(0.9218)\n",
      "epoch: 142 loss: tensor(0.9217)\n",
      "epoch: 143 loss: tensor(0.9212)\n",
      "epoch: 144 loss: tensor(0.9216)\n",
      "epoch: 145 loss: tensor(0.9206)\n",
      "epoch: 146 loss: tensor(0.9210)\n",
      "epoch: 147 loss: tensor(0.9201)\n",
      "epoch: 148 loss: tensor(0.9201)\n",
      "epoch: 149 loss: tensor(0.9200)\n",
      "epoch: 150 loss: tensor(0.9201)\n",
      "epoch: 151 loss: tensor(0.9197)\n",
      "epoch: 152 loss: tensor(0.9196)\n",
      "epoch: 153 loss: tensor(0.9188)\n",
      "epoch: 154 loss: tensor(0.9191)\n",
      "epoch: 155 loss: tensor(0.9183)\n",
      "epoch: 156 loss: tensor(0.9188)\n",
      "epoch: 157 loss: tensor(0.9183)\n",
      "epoch: 158 loss: tensor(0.9184)\n",
      "epoch: 159 loss: tensor(0.9177)\n",
      "epoch: 160 loss: tensor(0.9178)\n",
      "epoch: 161 loss: tensor(0.9175)\n",
      "epoch: 162 loss: tensor(0.9175)\n",
      "epoch: 163 loss: tensor(0.9170)\n",
      "epoch: 164 loss: tensor(0.9171)\n",
      "epoch: 165 loss: tensor(0.9168)\n",
      "epoch: 166 loss: tensor(0.9169)\n",
      "epoch: 167 loss: tensor(0.9165)\n",
      "epoch: 168 loss: tensor(0.9165)\n",
      "epoch: 169 loss: tensor(0.9162)\n",
      "epoch: 170 loss: tensor(0.9164)\n",
      "epoch: 171 loss: tensor(0.9158)\n",
      "epoch: 172 loss: tensor(0.9163)\n",
      "epoch: 173 loss: tensor(0.9157)\n",
      "epoch: 174 loss: tensor(0.9158)\n",
      "epoch: 175 loss: tensor(0.9154)\n",
      "epoch: 176 loss: tensor(0.9155)\n",
      "epoch: 177 loss: tensor(0.9151)\n",
      "epoch: 178 loss: tensor(0.9147)\n",
      "epoch: 179 loss: tensor(0.9147)\n",
      "epoch: 180 loss: tensor(0.9147)\n",
      "epoch: 181 loss: tensor(0.9144)\n",
      "epoch: 182 loss: tensor(0.9144)\n",
      "epoch: 183 loss: tensor(0.9139)\n",
      "epoch: 184 loss: tensor(0.9140)\n",
      "epoch: 185 loss: tensor(0.9138)\n",
      "epoch: 186 loss: tensor(0.9139)\n",
      "epoch: 187 loss: tensor(0.9135)\n",
      "epoch: 188 loss: tensor(0.9134)\n",
      "epoch: 189 loss: tensor(0.9134)\n",
      "epoch: 190 loss: tensor(0.9133)\n",
      "epoch: 191 loss: tensor(0.9131)\n",
      "epoch: 192 loss: tensor(0.9133)\n",
      "epoch: 193 loss: tensor(0.9130)\n",
      "epoch: 194 loss: tensor(0.9128)\n",
      "epoch: 195 loss: tensor(0.9124)\n",
      "epoch: 196 loss: tensor(0.9126)\n",
      "epoch: 197 loss: tensor(0.9125)\n",
      "epoch: 198 loss: tensor(0.9126)\n",
      "epoch: 199 loss: tensor(0.9123)\n",
      "epoch: 200 loss: tensor(0.9124)\n"
     ]
    }
   ],
   "source": [
    "nb_epoch = 200\n",
    "for epoch in range(1, nb_epoch + 1):\n",
    "    train_loss = 0\n",
    "    s = 0\n",
    "    # Implementing Stochastic Gradient Descent (SGD) in the training set\n",
    "    for id_user in range(nb_users):\n",
    "        input = Variable(training_set[id_user]).unsqueeze(0)\n",
    "        target = input.clone() # Predicted ratings for movies\n",
    "        if torch.sum(target.data > 0) > 0:\n",
    "            output = sae(input)\n",
    "            target.require_grad = False # No SGD\n",
    "            output[target == 0] = 0\n",
    "            loss = criterion(output, target)\n",
    "            mean_corrector = nb_movies/float(torch.sum(target.data > 0) + 1e-10) # Average of the loss between real and predicted ratings\n",
    "            loss.backward()\n",
    "            train_loss += np.sqrt(loss.data*mean_corrector)\n",
    "            s += 1\n",
    "            optimizer.step()\n",
    "    print('epoch: '+str(epoch)+' loss: '+str(train_loss/s))"
   ]
  },
  {
   "cell_type": "markdown",
   "metadata": {},
   "source": [
    "**Loss Interpretation**\n",
    "\n",
    "If we get an epoch loss of 1, that means the average difference between the real ratings of the movies by the users and the predicted ratings, will be 1. That means the error in predicting whether the user would like the movie or not, would be 1 star out of 5 stars. Here we see that the training loss is less than 1 and hence, the model gives good predictions. "
   ]
  },
  {
   "cell_type": "markdown",
   "metadata": {
    "id": "BYTV81Yif0Sc"
   },
   "source": [
    "### Testing the SAE"
   ]
  },
  {
   "cell_type": "code",
   "execution_count": 22,
   "metadata": {
    "colab": {
     "base_uri": "https://localhost:8080/"
    },
    "executionInfo": {
     "elapsed": 396,
     "status": "ok",
     "timestamp": 1727887501968,
     "user": {
      "displayName": "Hadelin de Ponteves",
      "userId": "15047218817161520419"
     },
     "user_tz": -240
    },
    "id": "v5_mJJscf3oj",
    "outputId": "5b187cc8-6463-4bd1-a662-68ee051c8c66"
   },
   "outputs": [
    {
     "name": "stdout",
     "output_type": "stream",
     "text": [
      "test loss: tensor(0.9561)\n"
     ]
    }
   ],
   "source": [
    "test_loss = 0\n",
    "s = 0\n",
    "for id_user in range(nb_users):\n",
    "    input = Variable(training_set[id_user]).unsqueeze(0)\n",
    "    target = Variable(test_set[id_user]).unsqueeze(0)\n",
    "    if torch.sum(target.data > 0) > 0:\n",
    "        output = sae(input)\n",
    "        target.require_grad = False\n",
    "        output[target == 0] = 0\n",
    "        loss = criterion(output, target)\n",
    "        mean_corrector = nb_movies/float(torch.sum(target.data > 0) + 1e-10)\n",
    "        test_loss += np.sqrt(loss.data*mean_corrector)\n",
    "        s += 1.\n",
    "print('test loss: '+str(test_loss/s))"
   ]
  },
  {
   "cell_type": "markdown",
   "metadata": {},
   "source": [
    "**Loss Interpretation**\n",
    "\n",
    "We see that the error/loss in the test set is less than 1, so we can say that the model performs well with little error and predicts correctly majority of the times about user's opinion on the movie."
   ]
  },
  {
   "cell_type": "code",
   "execution_count": null,
   "metadata": {},
   "outputs": [],
   "source": []
  }
 ],
 "metadata": {
  "colab": {
   "authorship_tag": "ABX9TyPHwJAy8eaK0rxUHsVrbtUp",
   "provenance": []
  },
  "kernelspec": {
   "display_name": "Python 3 (ipykernel)",
   "language": "python",
   "name": "python3"
  },
  "language_info": {
   "codemirror_mode": {
    "name": "ipython",
    "version": 3
   },
   "file_extension": ".py",
   "mimetype": "text/x-python",
   "name": "python",
   "nbconvert_exporter": "python",
   "pygments_lexer": "ipython3",
   "version": "3.12.7"
  }
 },
 "nbformat": 4,
 "nbformat_minor": 4
}

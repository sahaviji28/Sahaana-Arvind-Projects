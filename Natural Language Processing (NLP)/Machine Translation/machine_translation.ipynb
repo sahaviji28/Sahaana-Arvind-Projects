{
 "cells": [
  {
   "cell_type": "markdown",
   "metadata": {
    "collapsed": true
   },
   "source": [
    "# Artificial Intelligence Nanodegree\n",
    "## Machine Translation Project\n",
    "In this notebook, sections that end with **'(IMPLEMENTATION)'** in the header indicate that the following blocks of code will require additional functionality which you must provide. Please be sure to read the instructions carefully!\n",
    "\n",
    "## Introduction\n",
    "In this notebook, you will build a deep neural network that functions as part of an end-to-end machine translation pipeline. Your completed pipeline will accept English text as input and return the French translation.\n",
    "\n",
    "- **Preprocess** - You'll convert text to sequence of integers.\n",
    "- **Models** Create models which accepts a sequence of integers as input and returns a probability distribution over possible translations. After learning about the basic types of neural networks that are often used for machine translation, you will engage in your own investigations, to design your own model!\n",
    "- **Prediction** Run the model on English text."
   ]
  },
  {
   "cell_type": "code",
   "execution_count": 1,
   "metadata": {},
   "outputs": [],
   "source": [
    "%load_ext autoreload\n",
    "%aimport helper, tests\n",
    "%autoreload 1"
   ]
  },
  {
   "cell_type": "code",
   "execution_count": 2,
   "metadata": {},
   "outputs": [
    {
     "name": "stderr",
     "output_type": "stream",
     "text": [
      "Using TensorFlow backend.\n"
     ]
    }
   ],
   "source": [
    "import collections\n",
    "\n",
    "import helper\n",
    "import numpy as np\n",
    "import project_tests as tests\n",
    "\n",
    "from keras.preprocessing.text import Tokenizer\n",
    "from keras.preprocessing.sequence import pad_sequences\n",
    "from keras.models import Model\n",
    "from keras.layers import GRU, Input, Dense, TimeDistributed, Activation, RepeatVector, Bidirectional\n",
    "from keras.layers.embeddings import Embedding\n",
    "from keras.optimizers import Adam\n",
    "from keras.losses import sparse_categorical_crossentropy"
   ]
  },
  {
   "cell_type": "markdown",
   "metadata": {},
   "source": [
    "### Verify access to the GPU\n",
    "The following test applies only if you expect to be using a GPU, e.g., while running in a Udacity Workspace or using an AWS instance with GPU support. Run the next cell, and verify that the device_type is \"GPU\".\n",
    "- If the device is not GPU & you are running from a Udacity Workspace, then save your workspace with the icon at the top, then click \"enable\" at the bottom of the workspace.\n",
    "- If the device is not GPU & you are running from an AWS instance, then refer to the cloud computing instructions in the classroom to verify your setup steps."
   ]
  },
  {
   "cell_type": "code",
   "execution_count": 3,
   "metadata": {},
   "outputs": [
    {
     "name": "stdout",
     "output_type": "stream",
     "text": [
      "[name: \"/cpu:0\"\n",
      "device_type: \"CPU\"\n",
      "memory_limit: 268435456\n",
      "locality {\n",
      "}\n",
      "incarnation: 6368285714250583709\n",
      ", name: \"/gpu:0\"\n",
      "device_type: \"GPU\"\n",
      "memory_limit: 357433344\n",
      "locality {\n",
      "  bus_id: 1\n",
      "}\n",
      "incarnation: 3372403604884146678\n",
      "physical_device_desc: \"device: 0, name: Tesla K80, pci bus id: 0000:00:04.0\"\n",
      "]\n"
     ]
    }
   ],
   "source": [
    "from tensorflow.python.client import device_lib\n",
    "print(device_lib.list_local_devices())"
   ]
  },
  {
   "cell_type": "markdown",
   "metadata": {},
   "source": [
    "## Dataset\n",
    "We begin by investigating the dataset that will be used to train and evaluate your pipeline.  The most common datasets used for machine translation are from [WMT](http://www.statmt.org/).  However, that will take a long time to train a neural network on.  We'll be using a dataset we created for this project that contains a small vocabulary.  You'll be able to train your model in a reasonable time with this dataset.\n",
    "### Load Data\n",
    "The data is located in `data/small_vocab_en` and `data/small_vocab_fr`. The `small_vocab_en` file contains English sentences with their French translations in the `small_vocab_fr` file. Load the English and French data from these files from running the cell below."
   ]
  },
  {
   "cell_type": "code",
   "execution_count": 3,
   "metadata": {},
   "outputs": [
    {
     "name": "stdout",
     "output_type": "stream",
     "text": [
      "Dataset Loaded\n"
     ]
    }
   ],
   "source": [
    "# Load English data\n",
    "english_sentences = helper.load_data('data/small_vocab_en')\n",
    "# Load French data\n",
    "french_sentences = helper.load_data('data/small_vocab_fr')\n",
    "\n",
    "print('Dataset Loaded')"
   ]
  },
  {
   "cell_type": "markdown",
   "metadata": {},
   "source": [
    "### Files\n",
    "Each line in `small_vocab_en` contains an English sentence with the respective translation in each line of `small_vocab_fr`.  View the first two lines from each file."
   ]
  },
  {
   "cell_type": "code",
   "execution_count": 5,
   "metadata": {},
   "outputs": [
    {
     "name": "stdout",
     "output_type": "stream",
     "text": [
      "small_vocab_en Line 1:  new jersey is sometimes quiet during autumn , and it is snowy in april .\n",
      "small_vocab_fr Line 1:  new jersey est parfois calme pendant l' automne , et il est neigeux en avril .\n",
      "small_vocab_en Line 2:  the united states is usually chilly during july , and it is usually freezing in november .\n",
      "small_vocab_fr Line 2:  les états-unis est généralement froid en juillet , et il gèle habituellement en novembre .\n"
     ]
    }
   ],
   "source": [
    "for sample_i in range(2):\n",
    "    print('small_vocab_en Line {}:  {}'.format(sample_i + 1, english_sentences[sample_i]))\n",
    "    print('small_vocab_fr Line {}:  {}'.format(sample_i + 1, french_sentences[sample_i]))"
   ]
  },
  {
   "cell_type": "markdown",
   "metadata": {},
   "source": [
    "From looking at the sentences, you can see they have been preprocessed already.  The puncuations have been delimited using spaces. All the text have been converted to lowercase.  This should save you some time, but the text requires more preprocessing.\n",
    "### Vocabulary\n",
    "The complexity of the problem is determined by the complexity of the vocabulary.  A more complex vocabulary is a more complex problem.  Let's look at the complexity of the dataset we'll be working with."
   ]
  },
  {
   "cell_type": "code",
   "execution_count": 4,
   "metadata": {},
   "outputs": [
    {
     "name": "stdout",
     "output_type": "stream",
     "text": [
      "1823250 English words.\n",
      "227 unique English words.\n",
      "10 Most common words in the English dataset:\n",
      "\"is\" \",\" \".\" \"in\" \"it\" \"during\" \"the\" \"but\" \"and\" \"sometimes\"\n",
      "\n",
      "1961295 French words.\n",
      "355 unique French words.\n",
      "10 Most common words in the French dataset:\n",
      "\"est\" \".\" \",\" \"en\" \"il\" \"les\" \"mais\" \"et\" \"la\" \"parfois\"\n"
     ]
    }
   ],
   "source": [
    "english_words_counter = collections.Counter([word for sentence in english_sentences for word in sentence.split()])\n",
    "french_words_counter = collections.Counter([word for sentence in french_sentences for word in sentence.split()])\n",
    "\n",
    "print('{} English words.'.format(len([word for sentence in english_sentences for word in sentence.split()])))\n",
    "print('{} unique English words.'.format(len(english_words_counter)))\n",
    "print('10 Most common words in the English dataset:')\n",
    "print('\"' + '\" \"'.join(list(zip(*english_words_counter.most_common(10)))[0]) + '\"')\n",
    "print()\n",
    "print('{} French words.'.format(len([word for sentence in french_sentences for word in sentence.split()])))\n",
    "print('{} unique French words.'.format(len(french_words_counter)))\n",
    "print('10 Most common words in the French dataset:')\n",
    "print('\"' + '\" \"'.join(list(zip(*french_words_counter.most_common(10)))[0]) + '\"')"
   ]
  },
  {
   "cell_type": "markdown",
   "metadata": {},
   "source": [
    "For comparison, _Alice's Adventures in Wonderland_ contains 2,766 unique words of a total of 15,500 words.\n",
    "## Preprocess\n",
    "For this project, you won't use text data as input to your model. Instead, you'll convert the text into sequences of integers using the following preprocess methods:\n",
    "1. Tokenize the words into ids\n",
    "2. Add padding to make all the sequences the same length.\n",
    "\n",
    "Time to start preprocessing the data...\n",
    "### Tokenize (IMPLEMENTATION)\n",
    "For a neural network to predict on text data, it first has to be turned into data it can understand. Text data like \"dog\" is a sequence of ASCII character encodings.  Since a neural network is a series of multiplication and addition operations, the input data needs to be number(s).\n",
    "\n",
    "We can turn each character into a number or each word into a number.  These are called character and word ids, respectively.  Character ids are used for character level models that generate text predictions for each character.  A word level model uses word ids that generate text predictions for each word.  Word level models tend to learn better, since they are lower in complexity, so we'll use those.\n",
    "\n",
    "Turn each sentence into a sequence of words ids using Keras's [`Tokenizer`](https://keras.io/preprocessing/text/#tokenizer) function. Use this function to tokenize `english_sentences` and `french_sentences` in the cell below.\n",
    "\n",
    "Running the cell will run `tokenize` on sample data and show output for debugging."
   ]
  },
  {
   "cell_type": "code",
   "execution_count": 5,
   "metadata": {},
   "outputs": [
    {
     "name": "stdout",
     "output_type": "stream",
     "text": [
      "{'the': 1, 'quick': 2, 'a': 3, 'brown': 4, 'fox': 5, 'jumps': 6, 'over': 7, 'lazy': 8, 'dog': 9, 'by': 10, 'jove': 11, 'my': 12, 'study': 13, 'of': 14, 'lexicography': 15, 'won': 16, 'prize': 17, 'this': 18, 'is': 19, 'short': 20, 'sentence': 21}\n",
      "\n",
      "Sequence 1 in x\n",
      "  Input:  The quick brown fox jumps over the lazy dog .\n",
      "  Output: [1, 2, 4, 5, 6, 7, 1, 8, 9]\n",
      "Sequence 2 in x\n",
      "  Input:  By Jove , my quick study of lexicography won a prize .\n",
      "  Output: [10, 11, 12, 2, 13, 14, 15, 16, 3, 17]\n",
      "Sequence 3 in x\n",
      "  Input:  This is a short sentence .\n",
      "  Output: [18, 19, 3, 20, 21]\n"
     ]
    }
   ],
   "source": [
    "def tokenize(x):\n",
    "    \"\"\"\n",
    "    Tokenize x\n",
    "    :param x: List of sentences/strings to be tokenized\n",
    "    :return: Tuple of (tokenized x data, tokenizer used to tokenize x)\n",
    "    \"\"\"\n",
    "    tz = Tokenizer()\n",
    "    tz.fit_on_texts(x)\n",
    "    \n",
    "    return tz.texts_to_sequences(x), tz\n",
    "\n",
    "tests.test_tokenize(tokenize)\n",
    "\n",
    "# Tokenize Example output\n",
    "text_sentences = [\n",
    "    'The quick brown fox jumps over the lazy dog .',\n",
    "    'By Jove , my quick study of lexicography won a prize .',\n",
    "    'This is a short sentence .']\n",
    "text_tokenized, text_tokenizer = tokenize(text_sentences)\n",
    "print(text_tokenizer.word_index)\n",
    "print()\n",
    "for sample_i, (sent, token_sent) in enumerate(zip(text_sentences, text_tokenized)):\n",
    "    print('Sequence {} in x'.format(sample_i + 1))\n",
    "    print('  Input:  {}'.format(sent))\n",
    "    print('  Output: {}'.format(token_sent))"
   ]
  },
  {
   "cell_type": "markdown",
   "metadata": {},
   "source": [
    "### Padding (IMPLEMENTATION)\n",
    "When batching the sequence of word ids together, each sequence needs to be the same length.  Since sentences are dynamic in length, we can add padding to the end of the sequences to make them the same length.\n",
    "\n",
    "Make sure all the English sequences have the same length and all the French sequences have the same length by adding padding to the **end** of each sequence using Keras's [`pad_sequences`](https://keras.io/preprocessing/sequence/#pad_sequences) function."
   ]
  },
  {
   "cell_type": "code",
   "execution_count": 6,
   "metadata": {},
   "outputs": [
    {
     "name": "stdout",
     "output_type": "stream",
     "text": [
      "Sequence 1 in x\n",
      "  Input:  [1 2 4 5 6 7 1 8 9]\n",
      "  Output: [1 2 4 5 6 7 1 8 9 0]\n",
      "Sequence 2 in x\n",
      "  Input:  [10 11 12  2 13 14 15 16  3 17]\n",
      "  Output: [10 11 12  2 13 14 15 16  3 17]\n",
      "Sequence 3 in x\n",
      "  Input:  [18 19  3 20 21]\n",
      "  Output: [18 19  3 20 21  0  0  0  0  0]\n"
     ]
    }
   ],
   "source": [
    "def pad(x, length=None):\n",
    "    \"\"\"\n",
    "    Pad x\n",
    "    :param x: List of sequences.\n",
    "    :param length: Length to pad the sequence to.  If None, use length of longest sequence in x.\n",
    "    :return: Padded numpy array of sequences\n",
    "    \"\"\"\n",
    "    l = len(max(x, key=len))\n",
    "    \n",
    "    if length is None:\n",
    "        length = l\n",
    "    \n",
    "    x = pad_sequences(x, maxlen = length, padding = 'post')\n",
    "    \n",
    "    return x\n",
    "\n",
    "tests.test_pad(pad)\n",
    "\n",
    "# Pad Tokenized output\n",
    "test_pad = pad(text_tokenized)\n",
    "for sample_i, (token_sent, pad_sent) in enumerate(zip(text_tokenized, test_pad)):\n",
    "    print('Sequence {} in x'.format(sample_i + 1))\n",
    "    print('  Input:  {}'.format(np.array(token_sent)))\n",
    "    print('  Output: {}'.format(pad_sent))"
   ]
  },
  {
   "cell_type": "markdown",
   "metadata": {},
   "source": [
    "### Preprocess Pipeline\n",
    "Your focus for this project is to build neural network architecture, so we won't ask you to create a preprocess pipeline.  Instead, we've provided you with the implementation of the `preprocess` function."
   ]
  },
  {
   "cell_type": "code",
   "execution_count": 7,
   "metadata": {},
   "outputs": [
    {
     "name": "stdout",
     "output_type": "stream",
     "text": [
      "Data Preprocessed\n",
      "Max English sentence length: 15\n",
      "Max French sentence length: 21\n",
      "English vocabulary size: 199\n",
      "French vocabulary size: 344\n"
     ]
    }
   ],
   "source": [
    "def preprocess(x, y):\n",
    "    \"\"\"\n",
    "    Preprocess x and y\n",
    "    :param x: Feature List of sentences\n",
    "    :param y: Label List of sentences\n",
    "    :return: Tuple of (Preprocessed x, Preprocessed y, x tokenizer, y tokenizer)\n",
    "    \"\"\"\n",
    "    preprocess_x, x_tk = tokenize(x)\n",
    "    preprocess_y, y_tk = tokenize(y)\n",
    "\n",
    "    preprocess_x = pad(preprocess_x)\n",
    "    preprocess_y = pad(preprocess_y)\n",
    "\n",
    "    # Keras's sparse_categorical_crossentropy function requires the labels to be in 3 dimensions\n",
    "    preprocess_y = preprocess_y.reshape(*preprocess_y.shape, 1)\n",
    "\n",
    "    return preprocess_x, preprocess_y, x_tk, y_tk\n",
    "\n",
    "preproc_english_sentences, preproc_french_sentences, english_tokenizer, french_tokenizer =\\\n",
    "    preprocess(english_sentences, french_sentences)\n",
    "    \n",
    "max_english_sequence_length = preproc_english_sentences.shape[1]\n",
    "max_french_sequence_length = preproc_french_sentences.shape[1]\n",
    "english_vocab_size = len(english_tokenizer.word_index)\n",
    "french_vocab_size = len(french_tokenizer.word_index)\n",
    "\n",
    "print('Data Preprocessed')\n",
    "print(\"Max English sentence length:\", max_english_sequence_length)\n",
    "print(\"Max French sentence length:\", max_french_sequence_length)\n",
    "print(\"English vocabulary size:\", english_vocab_size)\n",
    "print(\"French vocabulary size:\", french_vocab_size)"
   ]
  },
  {
   "cell_type": "code",
   "execution_count": 17,
   "metadata": {},
   "outputs": [
    {
     "data": {
      "text/plain": [
       "{'is': 1,\n",
       " 'in': 2,\n",
       " 'it': 3,\n",
       " 'during': 4,\n",
       " 'the': 5,\n",
       " 'but': 6,\n",
       " 'and': 7,\n",
       " 'sometimes': 8,\n",
       " 'usually': 9,\n",
       " 'never': 10,\n",
       " 'favorite': 11,\n",
       " 'least': 12,\n",
       " 'fruit': 13,\n",
       " 'most': 14,\n",
       " 'loved': 15,\n",
       " 'liked': 16,\n",
       " 'new': 17,\n",
       " 'paris': 18,\n",
       " 'india': 19,\n",
       " 'united': 20,\n",
       " 'states': 21,\n",
       " 'california': 22,\n",
       " 'jersey': 23,\n",
       " 'france': 24,\n",
       " 'china': 25,\n",
       " 'he': 26,\n",
       " 'she': 27,\n",
       " 'grapefruit': 28,\n",
       " 'your': 29,\n",
       " 'my': 30,\n",
       " 'his': 31,\n",
       " 'her': 32,\n",
       " 'fall': 33,\n",
       " 'june': 34,\n",
       " 'spring': 35,\n",
       " 'january': 36,\n",
       " 'winter': 37,\n",
       " 'march': 38,\n",
       " 'autumn': 39,\n",
       " 'may': 40,\n",
       " 'nice': 41,\n",
       " 'september': 42,\n",
       " 'july': 43,\n",
       " 'april': 44,\n",
       " 'november': 45,\n",
       " 'summer': 46,\n",
       " 'december': 47,\n",
       " 'february': 48,\n",
       " 'our': 49,\n",
       " 'their': 50,\n",
       " 'freezing': 51,\n",
       " 'pleasant': 52,\n",
       " 'beautiful': 53,\n",
       " 'october': 54,\n",
       " 'snowy': 55,\n",
       " 'warm': 56,\n",
       " 'cold': 57,\n",
       " 'wonderful': 58,\n",
       " 'dry': 59,\n",
       " 'busy': 60,\n",
       " 'august': 61,\n",
       " 'chilly': 62,\n",
       " 'rainy': 63,\n",
       " 'mild': 64,\n",
       " 'wet': 65,\n",
       " 'relaxing': 66,\n",
       " 'quiet': 67,\n",
       " 'hot': 68,\n",
       " 'dislikes': 69,\n",
       " 'likes': 70,\n",
       " 'limes': 71,\n",
       " 'lemons': 72,\n",
       " 'grapes': 73,\n",
       " 'mangoes': 74,\n",
       " 'apples': 75,\n",
       " 'peaches': 76,\n",
       " 'oranges': 77,\n",
       " 'pears': 78,\n",
       " 'strawberries': 79,\n",
       " 'bananas': 80,\n",
       " 'to': 81,\n",
       " 'grape': 82,\n",
       " 'apple': 83,\n",
       " 'orange': 84,\n",
       " 'lemon': 85,\n",
       " 'lime': 86,\n",
       " 'banana': 87,\n",
       " 'mango': 88,\n",
       " 'pear': 89,\n",
       " 'strawberry': 90,\n",
       " 'peach': 91,\n",
       " 'like': 92,\n",
       " 'dislike': 93,\n",
       " 'they': 94,\n",
       " 'that': 95,\n",
       " 'i': 96,\n",
       " 'we': 97,\n",
       " 'you': 98,\n",
       " 'animal': 99,\n",
       " 'a': 100,\n",
       " 'truck': 101,\n",
       " 'car': 102,\n",
       " 'automobile': 103,\n",
       " 'was': 104,\n",
       " 'next': 105,\n",
       " 'go': 106,\n",
       " 'driving': 107,\n",
       " 'visit': 108,\n",
       " 'little': 109,\n",
       " 'big': 110,\n",
       " 'old': 111,\n",
       " 'yellow': 112,\n",
       " 'red': 113,\n",
       " 'rusty': 114,\n",
       " 'blue': 115,\n",
       " 'white': 116,\n",
       " 'black': 117,\n",
       " 'green': 118,\n",
       " 'shiny': 119,\n",
       " 'are': 120,\n",
       " 'last': 121,\n",
       " 'feared': 122,\n",
       " 'animals': 123,\n",
       " 'this': 124,\n",
       " 'plan': 125,\n",
       " 'going': 126,\n",
       " 'saw': 127,\n",
       " 'disliked': 128,\n",
       " 'drives': 129,\n",
       " 'drove': 130,\n",
       " 'between': 131,\n",
       " 'translate': 132,\n",
       " 'plans': 133,\n",
       " 'were': 134,\n",
       " 'went': 135,\n",
       " 'might': 136,\n",
       " 'wanted': 137,\n",
       " 'thinks': 138,\n",
       " 'spanish': 139,\n",
       " 'portuguese': 140,\n",
       " 'chinese': 141,\n",
       " 'english': 142,\n",
       " 'french': 143,\n",
       " 'translating': 144,\n",
       " 'difficult': 145,\n",
       " 'fun': 146,\n",
       " 'easy': 147,\n",
       " 'wants': 148,\n",
       " 'think': 149,\n",
       " 'why': 150,\n",
       " \"it's\": 151,\n",
       " 'did': 152,\n",
       " 'cat': 153,\n",
       " 'shark': 154,\n",
       " 'bird': 155,\n",
       " 'mouse': 156,\n",
       " 'horse': 157,\n",
       " 'elephant': 158,\n",
       " 'dog': 159,\n",
       " 'monkey': 160,\n",
       " 'lion': 161,\n",
       " 'bear': 162,\n",
       " 'rabbit': 163,\n",
       " 'snake': 164,\n",
       " 'when': 165,\n",
       " 'want': 166,\n",
       " 'do': 167,\n",
       " 'how': 168,\n",
       " 'elephants': 169,\n",
       " 'horses': 170,\n",
       " 'dogs': 171,\n",
       " 'sharks': 172,\n",
       " 'snakes': 173,\n",
       " 'cats': 174,\n",
       " 'rabbits': 175,\n",
       " 'monkeys': 176,\n",
       " 'bears': 177,\n",
       " 'birds': 178,\n",
       " 'lions': 179,\n",
       " 'mice': 180,\n",
       " \"didn't\": 181,\n",
       " 'eiffel': 182,\n",
       " 'tower': 183,\n",
       " 'grocery': 184,\n",
       " 'store': 185,\n",
       " 'football': 186,\n",
       " 'field': 187,\n",
       " 'lake': 188,\n",
       " 'school': 189,\n",
       " 'would': 190,\n",
       " \"aren't\": 191,\n",
       " 'been': 192,\n",
       " 'weather': 193,\n",
       " 'does': 194,\n",
       " 'has': 195,\n",
       " \"isn't\": 196,\n",
       " 'am': 197,\n",
       " 'where': 198,\n",
       " 'have': 199}"
      ]
     },
     "execution_count": 17,
     "metadata": {},
     "output_type": "execute_result"
    }
   ],
   "source": [
    "english_tokenizer.word_index"
   ]
  },
  {
   "cell_type": "markdown",
   "metadata": {},
   "source": [
    "## Models\n",
    "In this section, you will experiment with various neural network architectures.\n",
    "You will begin by training four relatively simple architectures.\n",
    "- Model 1 is a simple RNN\n",
    "- Model 2 is a RNN with Embedding\n",
    "- Model 3 is a Bidirectional RNN\n",
    "- Model 4 is an optional Encoder-Decoder RNN\n",
    "\n",
    "After experimenting with the four simple architectures, you will construct a deeper architecture that is designed to outperform all four models.\n",
    "### Ids Back to Text\n",
    "The neural network will be translating the input to words ids, which isn't the final form we want.  We want the French translation.  The function `logits_to_text` will bridge the gab between the logits from the neural network to the French translation.  You'll be using this function to better understand the output of the neural network."
   ]
  },
  {
   "cell_type": "code",
   "execution_count": 8,
   "metadata": {},
   "outputs": [
    {
     "name": "stdout",
     "output_type": "stream",
     "text": [
      "`logits_to_text` function loaded.\n"
     ]
    }
   ],
   "source": [
    "def logits_to_text(logits, tokenizer):\n",
    "    \"\"\"\n",
    "    Turn logits from a neural network into text using the tokenizer\n",
    "    :param logits: Logits from a neural network\n",
    "    :param tokenizer: Keras Tokenizer fit on the labels\n",
    "    :return: String that represents the text of the logits\n",
    "    \"\"\"\n",
    "    index_to_words = {id: word for word, id in tokenizer.word_index.items()}\n",
    "    index_to_words[0] = '<PAD>'\n",
    "\n",
    "    return ' '.join([index_to_words[prediction] for prediction in np.argmax(logits, 1)])\n",
    "\n",
    "print('`logits_to_text` function loaded.')"
   ]
  },
  {
   "cell_type": "markdown",
   "metadata": {},
   "source": [
    "### Model 1: RNN (IMPLEMENTATION)\n",
    "![RNN](images/rnn.png)\n",
    "A basic RNN model is a good baseline for sequence data.  In this model, you'll build a RNN that translates English to French."
   ]
  },
  {
   "cell_type": "code",
   "execution_count": 12,
   "metadata": {},
   "outputs": [
    {
     "name": "stdout",
     "output_type": "stream",
     "text": [
      "Train on 110288 samples, validate on 27573 samples\n",
      "Epoch 1/50\n",
      "110288/110288 [==============================] - 7s 68us/step - loss: 3.4749 - acc: 0.4139 - val_loss: nan - val_acc: 0.4671\n",
      "Epoch 2/50\n",
      "110288/110288 [==============================] - 7s 64us/step - loss: 2.4517 - acc: 0.4701 - val_loss: nan - val_acc: 0.4809\n",
      "Epoch 3/50\n",
      "110288/110288 [==============================] - 7s 64us/step - loss: 2.2412 - acc: 0.5008 - val_loss: nan - val_acc: 0.5255\n",
      "Epoch 4/50\n",
      "110288/110288 [==============================] - 7s 64us/step - loss: 1.9909 - acc: 0.5561 - val_loss: nan - val_acc: 0.5677\n",
      "Epoch 5/50\n",
      "110288/110288 [==============================] - 7s 64us/step - loss: 1.8006 - acc: 0.5752 - val_loss: nan - val_acc: 0.5849\n",
      "Epoch 6/50\n",
      "110288/110288 [==============================] - 7s 64us/step - loss: 1.6858 - acc: 0.5857 - val_loss: nan - val_acc: 0.5899\n",
      "Epoch 7/50\n",
      "110288/110288 [==============================] - 7s 64us/step - loss: 1.6072 - acc: 0.5945 - val_loss: nan - val_acc: 0.5995\n",
      "Epoch 8/50\n",
      "110288/110288 [==============================] - 7s 64us/step - loss: 1.5473 - acc: 0.6028 - val_loss: nan - val_acc: 0.6068\n",
      "Epoch 9/50\n",
      "110288/110288 [==============================] - 7s 64us/step - loss: 1.4983 - acc: 0.6073 - val_loss: nan - val_acc: 0.6120\n",
      "Epoch 10/50\n",
      "110288/110288 [==============================] - 7s 64us/step - loss: 1.4554 - acc: 0.6149 - val_loss: nan - val_acc: 0.6214\n",
      "Epoch 11/50\n",
      "110288/110288 [==============================] - 7s 64us/step - loss: 1.4169 - acc: 0.6230 - val_loss: nan - val_acc: 0.6269\n",
      "Epoch 12/50\n",
      "110288/110288 [==============================] - 7s 64us/step - loss: 1.3803 - acc: 0.6294 - val_loss: nan - val_acc: 0.6294\n",
      "Epoch 13/50\n",
      "110288/110288 [==============================] - 7s 64us/step - loss: 1.3462 - acc: 0.6359 - val_loss: nan - val_acc: 0.6401\n",
      "Epoch 14/50\n",
      "110288/110288 [==============================] - 7s 64us/step - loss: 1.3162 - acc: 0.6410 - val_loss: nan - val_acc: 0.6433\n",
      "Epoch 15/50\n",
      "110288/110288 [==============================] - 7s 64us/step - loss: 1.2907 - acc: 0.6447 - val_loss: nan - val_acc: 0.6455\n",
      "Epoch 16/50\n",
      "110288/110288 [==============================] - 7s 64us/step - loss: 1.2683 - acc: 0.6468 - val_loss: nan - val_acc: 0.6481\n",
      "Epoch 17/50\n",
      "110288/110288 [==============================] - 7s 64us/step - loss: 1.2494 - acc: 0.6492 - val_loss: nan - val_acc: 0.6492\n",
      "Epoch 18/50\n",
      "110288/110288 [==============================] - 7s 64us/step - loss: 1.2325 - acc: 0.6519 - val_loss: nan - val_acc: 0.6525\n",
      "Epoch 19/50\n",
      "110288/110288 [==============================] - 7s 64us/step - loss: 1.2179 - acc: 0.6538 - val_loss: nan - val_acc: 0.6545\n",
      "Epoch 20/50\n",
      "110288/110288 [==============================] - 7s 64us/step - loss: 1.2041 - acc: 0.6555 - val_loss: nan - val_acc: 0.6564\n",
      "Epoch 21/50\n",
      "110288/110288 [==============================] - 7s 64us/step - loss: 1.1924 - acc: 0.6572 - val_loss: nan - val_acc: 0.6583\n",
      "Epoch 22/50\n",
      "110288/110288 [==============================] - 7s 64us/step - loss: 1.1819 - acc: 0.6581 - val_loss: nan - val_acc: 0.6573\n",
      "Epoch 23/50\n",
      "110288/110288 [==============================] - 7s 64us/step - loss: 1.1712 - acc: 0.6596 - val_loss: nan - val_acc: 0.6597\n",
      "Epoch 24/50\n",
      "110288/110288 [==============================] - 7s 64us/step - loss: 1.1609 - acc: 0.6605 - val_loss: nan - val_acc: 0.6619\n",
      "Epoch 25/50\n",
      "110288/110288 [==============================] - 7s 64us/step - loss: 1.1517 - acc: 0.6619 - val_loss: nan - val_acc: 0.6607\n",
      "Epoch 26/50\n",
      "110288/110288 [==============================] - 7s 64us/step - loss: 1.1429 - acc: 0.6630 - val_loss: nan - val_acc: 0.6621\n",
      "Epoch 27/50\n",
      "110288/110288 [==============================] - 7s 64us/step - loss: 1.1343 - acc: 0.6640 - val_loss: nan - val_acc: 0.6633\n",
      "Epoch 28/50\n",
      "110288/110288 [==============================] - 7s 64us/step - loss: 1.1267 - acc: 0.6655 - val_loss: nan - val_acc: 0.6644\n",
      "Epoch 29/50\n",
      "110288/110288 [==============================] - 7s 64us/step - loss: 1.1180 - acc: 0.6664 - val_loss: nan - val_acc: 0.6670\n",
      "Epoch 30/50\n",
      "110288/110288 [==============================] - 7s 64us/step - loss: 1.1117 - acc: 0.6679 - val_loss: nan - val_acc: 0.6721\n",
      "Epoch 31/50\n",
      "110288/110288 [==============================] - 7s 64us/step - loss: 1.1033 - acc: 0.6692 - val_loss: nan - val_acc: 0.6704\n",
      "Epoch 32/50\n",
      "110288/110288 [==============================] - 7s 64us/step - loss: 1.0969 - acc: 0.6699 - val_loss: nan - val_acc: 0.6753\n",
      "Epoch 33/50\n",
      "110288/110288 [==============================] - 7s 64us/step - loss: 1.0904 - acc: 0.6715 - val_loss: nan - val_acc: 0.6708\n",
      "Epoch 34/50\n",
      "110288/110288 [==============================] - 7s 64us/step - loss: 1.0844 - acc: 0.6725 - val_loss: nan - val_acc: 0.6717\n",
      "Epoch 35/50\n",
      "110288/110288 [==============================] - 7s 64us/step - loss: 1.0781 - acc: 0.6741 - val_loss: nan - val_acc: 0.6788\n",
      "Epoch 36/50\n",
      "110288/110288 [==============================] - 7s 64us/step - loss: 1.0724 - acc: 0.6757 - val_loss: nan - val_acc: 0.6733\n",
      "Epoch 37/50\n",
      "110288/110288 [==============================] - 7s 65us/step - loss: 1.0668 - acc: 0.6766 - val_loss: nan - val_acc: 0.6771\n",
      "Epoch 38/50\n",
      "110288/110288 [==============================] - 7s 64us/step - loss: 1.0618 - acc: 0.6773 - val_loss: nan - val_acc: 0.6807\n",
      "Epoch 39/50\n",
      "110288/110288 [==============================] - 7s 64us/step - loss: 1.0576 - acc: 0.6787 - val_loss: nan - val_acc: 0.6808\n",
      "Epoch 40/50\n",
      "110288/110288 [==============================] - 7s 64us/step - loss: 1.0511 - acc: 0.6792 - val_loss: nan - val_acc: 0.6798\n",
      "Epoch 41/50\n",
      "110288/110288 [==============================] - 7s 64us/step - loss: 1.0457 - acc: 0.6806 - val_loss: nan - val_acc: 0.6829\n",
      "Epoch 42/50\n",
      "110288/110288 [==============================] - 7s 64us/step - loss: 1.0412 - acc: 0.6820 - val_loss: nan - val_acc: 0.6787\n",
      "Epoch 43/50\n",
      "110288/110288 [==============================] - 7s 64us/step - loss: 1.0372 - acc: 0.6833 - val_loss: nan - val_acc: 0.6856\n",
      "Epoch 44/50\n",
      "110288/110288 [==============================] - 7s 64us/step - loss: 1.0321 - acc: 0.6849 - val_loss: nan - val_acc: 0.6853\n",
      "Epoch 45/50\n",
      "110288/110288 [==============================] - 7s 64us/step - loss: 1.0265 - acc: 0.6869 - val_loss: nan - val_acc: 0.6877\n",
      "Epoch 46/50\n",
      "110288/110288 [==============================] - 7s 64us/step - loss: 1.0239 - acc: 0.6873 - val_loss: nan - val_acc: 0.6862\n",
      "Epoch 47/50\n",
      "110288/110288 [==============================] - 7s 64us/step - loss: 1.0184 - acc: 0.6887 - val_loss: nan - val_acc: 0.6902\n",
      "Epoch 48/50\n",
      "110288/110288 [==============================] - 7s 64us/step - loss: 1.0130 - acc: 0.6905 - val_loss: nan - val_acc: 0.6889\n",
      "Epoch 49/50\n",
      "110288/110288 [==============================] - 7s 64us/step - loss: 1.0103 - acc: 0.6911 - val_loss: nan - val_acc: 0.6906\n",
      "Epoch 50/50\n",
      "110288/110288 [==============================] - 7s 64us/step - loss: 1.0050 - acc: 0.6937 - val_loss: nan - val_acc: 0.6962\n",
      "new jersey est parfois calme en mois de il et est est en <PAD> <PAD> <PAD> <PAD> <PAD> <PAD> <PAD> <PAD>\n"
     ]
    }
   ],
   "source": [
    "def simple_model(input_shape, output_sequence_length, english_vocab_size, french_vocab_size):\n",
    "    \"\"\"\n",
    "    Build and train a basic RNN on x and y\n",
    "    :param input_shape: Tuple of input shape\n",
    "    :param output_sequence_length: Length of output sequence\n",
    "    :param english_vocab_size: Number of unique English words in the dataset\n",
    "    :param french_vocab_size: Number of unique French words in the dataset\n",
    "    :return: Keras model built, but not trained\n",
    "    \"\"\"\n",
    "    learning_rate = 1e-3\n",
    "\n",
    "    input_seq = Input(input_shape[1:])\n",
    "    rnn = GRU(64, return_sequences=True)(input_seq)\n",
    "    logits = TimeDistributed(Dense(french_vocab_size))(rnn)\n",
    "\n",
    "    model = Model(input_seq, Activation('softmax')(logits))\n",
    "    model.compile(loss=sparse_categorical_crossentropy,\n",
    "                  optimizer=Adam(learning_rate),\n",
    "                  metrics=['accuracy'])\n",
    "    \n",
    "    return model\n",
    "\n",
    "tests.test_simple_model(simple_model)\n",
    "\n",
    "# Reshaping the input to work with a basic RNN\n",
    "tmp_x = pad(preproc_english_sentences, max_french_sequence_length)\n",
    "tmp_x = tmp_x.reshape((-1, preproc_french_sentences.shape[-2], 1))\n",
    "\n",
    "# Train the neural network\n",
    "simple_rnn_model = simple_model(\n",
    "    tmp_x.shape,\n",
    "    max_french_sequence_length,\n",
    "    english_vocab_size,\n",
    "    french_vocab_size)\n",
    "simple_rnn_model.fit(tmp_x, preproc_french_sentences, batch_size=1024, epochs=50, validation_split=0.2)\n",
    "\n",
    "# Print prediction(s)\n",
    "print(logits_to_text(simple_rnn_model.predict(tmp_x[:1])[0], french_tokenizer))"
   ]
  },
  {
   "cell_type": "code",
   "execution_count": 13,
   "metadata": {},
   "outputs": [
    {
     "data": {
      "text/plain": [
       "\"new jersey est parfois calme pendant l' automne , et il est neigeux en avril .\""
      ]
     },
     "execution_count": 13,
     "metadata": {},
     "output_type": "execute_result"
    }
   ],
   "source": [
    "french_sentences[0]"
   ]
  },
  {
   "cell_type": "markdown",
   "metadata": {},
   "source": [
    "### Model 2: Embedding (IMPLEMENTATION)\n",
    "![RNN](images/embedding.png)\n",
    "You've turned the words into ids, but there's a better representation of a word.  This is called word embeddings.  An embedding is a vector representation of the word that is close to similar words in n-dimensional space, where the n represents the size of the embedding vectors.\n",
    "\n",
    "In this model, you'll create a RNN model using embedding."
   ]
  },
  {
   "cell_type": "code",
   "execution_count": 22,
   "metadata": {},
   "outputs": [
    {
     "data": {
      "text/plain": [
       "(137861, 21, 1)"
      ]
     },
     "execution_count": 22,
     "metadata": {},
     "output_type": "execute_result"
    }
   ],
   "source": [
    "tmp_x.shape"
   ]
  },
  {
   "cell_type": "code",
   "execution_count": 23,
   "metadata": {},
   "outputs": [
    {
     "name": "stdout",
     "output_type": "stream",
     "text": [
      "Train on 110288 samples, validate on 27573 samples\n",
      "Epoch 1/50\n",
      "110288/110288 [==============================] - 9s 81us/step - loss: 3.6713 - acc: 0.4009 - val_loss: 2.8420 - val_acc: 0.4128\n",
      "Epoch 2/50\n",
      "110288/110288 [==============================] - 8s 74us/step - loss: 2.4182 - acc: 0.4967 - val_loss: 1.9404 - val_acc: 0.5718\n",
      "Epoch 3/50\n",
      "110288/110288 [==============================] - 8s 74us/step - loss: 1.6146 - acc: 0.6229 - val_loss: 1.3409 - val_acc: 0.6765\n",
      "Epoch 4/50\n",
      "110288/110288 [==============================] - 8s 74us/step - loss: 1.1627 - acc: 0.7179 - val_loss: 1.0153 - val_acc: 0.7509\n",
      "Epoch 5/50\n",
      "110288/110288 [==============================] - 8s 74us/step - loss: 0.9174 - acc: 0.7688 - val_loss: 0.8310 - val_acc: 0.7846\n",
      "Epoch 6/50\n",
      "110288/110288 [==============================] - 8s 74us/step - loss: 0.7735 - acc: 0.7943 - val_loss: 0.7184 - val_acc: 0.8041\n",
      "Epoch 7/50\n",
      "110288/110288 [==============================] - 8s 74us/step - loss: 0.6800 - acc: 0.8122 - val_loss: 0.6412 - val_acc: 0.8210\n",
      "Epoch 8/50\n",
      "110288/110288 [==============================] - 8s 74us/step - loss: 0.6114 - acc: 0.8277 - val_loss: 0.5832 - val_acc: 0.8344\n",
      "Epoch 9/50\n",
      "110288/110288 [==============================] - 8s 74us/step - loss: 0.5592 - acc: 0.8399 - val_loss: 0.5392 - val_acc: 0.8442\n",
      "Epoch 10/50\n",
      "110288/110288 [==============================] - 8s 74us/step - loss: 0.5177 - acc: 0.8500 - val_loss: 0.4990 - val_acc: 0.8548\n",
      "Epoch 11/50\n",
      "110288/110288 [==============================] - 8s 74us/step - loss: 0.4840 - acc: 0.8585 - val_loss: 0.4671 - val_acc: 0.8636\n",
      "Epoch 12/50\n",
      "110288/110288 [==============================] - 8s 74us/step - loss: 0.4546 - acc: 0.8670 - val_loss: 0.4420 - val_acc: 0.8708\n",
      "Epoch 13/50\n",
      "110288/110288 [==============================] - 8s 74us/step - loss: 0.4305 - acc: 0.8740 - val_loss: 0.4203 - val_acc: 0.8778\n",
      "Epoch 14/50\n",
      "110288/110288 [==============================] - 8s 75us/step - loss: 0.4098 - acc: 0.8798 - val_loss: 0.4024 - val_acc: 0.8827\n",
      "Epoch 15/50\n",
      "110288/110288 [==============================] - 8s 74us/step - loss: 0.3922 - acc: 0.8846 - val_loss: 0.3935 - val_acc: 0.8838\n",
      "Epoch 16/50\n",
      "110288/110288 [==============================] - 8s 74us/step - loss: 0.3761 - acc: 0.8887 - val_loss: 0.3698 - val_acc: 0.8904\n",
      "Epoch 17/50\n",
      "110288/110288 [==============================] - 8s 74us/step - loss: 0.3631 - acc: 0.8919 - val_loss: 0.3602 - val_acc: 0.8928\n",
      "Epoch 18/50\n",
      "110288/110288 [==============================] - 8s 74us/step - loss: 0.3518 - acc: 0.8947 - val_loss: 0.3467 - val_acc: 0.8971\n",
      "Epoch 19/50\n",
      "110288/110288 [==============================] - 8s 74us/step - loss: 0.3405 - acc: 0.8980 - val_loss: 0.3395 - val_acc: 0.8982\n",
      "Epoch 20/50\n",
      "110288/110288 [==============================] - 8s 74us/step - loss: 0.3311 - acc: 0.9003 - val_loss: 0.3297 - val_acc: 0.9007\n",
      "Epoch 21/50\n",
      "110288/110288 [==============================] - 8s 75us/step - loss: 0.3236 - acc: 0.9021 - val_loss: 0.3266 - val_acc: 0.9014\n",
      "Epoch 22/50\n",
      "110288/110288 [==============================] - 8s 74us/step - loss: 0.3153 - acc: 0.9046 - val_loss: 0.3140 - val_acc: 0.9049\n",
      "Epoch 23/50\n",
      "110288/110288 [==============================] - 8s 74us/step - loss: 0.3086 - acc: 0.9065 - val_loss: 0.3082 - val_acc: 0.9067\n",
      "Epoch 24/50\n",
      "110288/110288 [==============================] - 8s 74us/step - loss: 0.3026 - acc: 0.9079 - val_loss: 0.3053 - val_acc: 0.9068\n",
      "Epoch 25/50\n",
      "110288/110288 [==============================] - 8s 74us/step - loss: 0.2982 - acc: 0.9089 - val_loss: 0.2990 - val_acc: 0.9084\n",
      "Epoch 26/50\n",
      "110288/110288 [==============================] - 8s 74us/step - loss: 0.2907 - acc: 0.9112 - val_loss: 0.2959 - val_acc: 0.9095\n",
      "Epoch 27/50\n",
      "110288/110288 [==============================] - 8s 74us/step - loss: 0.2858 - acc: 0.9124 - val_loss: 0.2899 - val_acc: 0.9116\n",
      "Epoch 28/50\n",
      "110288/110288 [==============================] - 8s 74us/step - loss: 0.2808 - acc: 0.9139 - val_loss: 0.2877 - val_acc: 0.9119\n",
      "Epoch 29/50\n",
      "110288/110288 [==============================] - 8s 74us/step - loss: 0.2776 - acc: 0.9144 - val_loss: 0.2818 - val_acc: 0.9136\n",
      "Epoch 30/50\n",
      "110288/110288 [==============================] - 8s 74us/step - loss: 0.2733 - acc: 0.9156 - val_loss: 0.2770 - val_acc: 0.9152\n",
      "Epoch 31/50\n",
      "110288/110288 [==============================] - 8s 74us/step - loss: 0.2697 - acc: 0.9164 - val_loss: 0.2750 - val_acc: 0.9153\n",
      "Epoch 32/50\n",
      "110288/110288 [==============================] - 8s 74us/step - loss: 0.2667 - acc: 0.9172 - val_loss: 0.2719 - val_acc: 0.9156\n",
      "Epoch 33/50\n",
      "110288/110288 [==============================] - 8s 74us/step - loss: 0.2621 - acc: 0.9186 - val_loss: 0.2686 - val_acc: 0.9170\n",
      "Epoch 34/50\n",
      "110288/110288 [==============================] - 8s 74us/step - loss: 0.2591 - acc: 0.9192 - val_loss: 0.2654 - val_acc: 0.9179\n",
      "Epoch 35/50\n",
      "110288/110288 [==============================] - 8s 74us/step - loss: 0.2563 - acc: 0.9200 - val_loss: 0.2634 - val_acc: 0.9183\n",
      "Epoch 36/50\n",
      "110288/110288 [==============================] - 8s 74us/step - loss: 0.2530 - acc: 0.9207 - val_loss: 0.2613 - val_acc: 0.9192\n",
      "Epoch 37/50\n",
      "110288/110288 [==============================] - 8s 74us/step - loss: 0.2517 - acc: 0.9211 - val_loss: 0.2581 - val_acc: 0.9199\n",
      "Epoch 38/50\n",
      "110288/110288 [==============================] - 8s 74us/step - loss: 0.2487 - acc: 0.9218 - val_loss: 0.2548 - val_acc: 0.9206\n",
      "Epoch 39/50\n",
      "110288/110288 [==============================] - 8s 74us/step - loss: 0.2460 - acc: 0.9224 - val_loss: 0.2551 - val_acc: 0.9200\n",
      "Epoch 40/50\n",
      "110288/110288 [==============================] - 8s 74us/step - loss: 0.2441 - acc: 0.9229 - val_loss: 0.2506 - val_acc: 0.9215\n",
      "Epoch 41/50\n",
      "110288/110288 [==============================] - 8s 74us/step - loss: 0.2409 - acc: 0.9238 - val_loss: 0.2512 - val_acc: 0.9210\n",
      "Epoch 42/50\n",
      "110288/110288 [==============================] - 8s 74us/step - loss: 0.2387 - acc: 0.9242 - val_loss: 0.2475 - val_acc: 0.9224\n",
      "Epoch 43/50\n",
      "110288/110288 [==============================] - 8s 74us/step - loss: 0.2365 - acc: 0.9249 - val_loss: 0.2464 - val_acc: 0.9227\n",
      "Epoch 44/50\n",
      "110288/110288 [==============================] - 8s 74us/step - loss: 0.2338 - acc: 0.9255 - val_loss: 0.2432 - val_acc: 0.9234\n",
      "Epoch 45/50\n",
      "110288/110288 [==============================] - 8s 74us/step - loss: 0.2324 - acc: 0.9257 - val_loss: 0.2480 - val_acc: 0.9216\n",
      "Epoch 46/50\n",
      "110288/110288 [==============================] - 8s 74us/step - loss: 0.2306 - acc: 0.9261 - val_loss: 0.2388 - val_acc: 0.9244\n",
      "Epoch 47/50\n",
      "110288/110288 [==============================] - 8s 74us/step - loss: 0.2290 - acc: 0.9266 - val_loss: 0.2401 - val_acc: 0.9242\n",
      "Epoch 48/50\n",
      "110288/110288 [==============================] - 8s 74us/step - loss: 0.2273 - acc: 0.9270 - val_loss: 0.2361 - val_acc: 0.9254\n",
      "Epoch 49/50\n",
      "110288/110288 [==============================] - 8s 74us/step - loss: 0.2246 - acc: 0.9277 - val_loss: 0.2343 - val_acc: 0.9262\n",
      "Epoch 50/50\n",
      "110288/110288 [==============================] - 8s 74us/step - loss: 0.2236 - acc: 0.9281 - val_loss: 0.2331 - val_acc: 0.9263\n"
     ]
    },
    {
     "data": {
      "text/plain": [
       "<keras.callbacks.History at 0x7f4d32b17748>"
      ]
     },
     "execution_count": 23,
     "metadata": {},
     "output_type": "execute_result"
    }
   ],
   "source": [
    "def embed_model(input_shape, output_sequence_length, english_vocab_size, french_vocab_size):\n",
    "    \"\"\"\n",
    "    Build and train a RNN model using word embedding on x and y\n",
    "    :param input_shape: Tuple of input shape\n",
    "    :param output_sequence_length: Length of output sequence\n",
    "    :param english_vocab_size: Number of unique English words in the dataset\n",
    "    :param french_vocab_size: Number of unique French words in the dataset\n",
    "    :return: Keras model built, but not trained\n",
    "    \"\"\"\n",
    "    learning_rate = 1e-3\n",
    "\n",
    "    input_seq = Input(input_shape[1:])\n",
    "    embed = Embedding(english_vocab_size, 128)(input_seq)\n",
    "    rnn = GRU(64, return_sequences=True)(embed)\n",
    "    logits = TimeDistributed(Dense(french_vocab_size))(rnn)\n",
    "\n",
    "    model = Model(input_seq, Activation('softmax')(logits))\n",
    "    model.compile(loss=sparse_categorical_crossentropy,\n",
    "                  optimizer=Adam(learning_rate),\n",
    "                  metrics=['accuracy'])\n",
    "    \n",
    "    return model\n",
    "    \n",
    "tests.test_embed_model(embed_model)\n",
    "\n",
    "\n",
    "# TODO: Reshape the input\n",
    "\n",
    "tmp_x = pad(preproc_english_sentences, max_french_sequence_length)\n",
    "\n",
    "# TODO: Train the neural network\n",
    "embed_rnn_model = embed_model(\n",
    "    tmp_x.shape,\n",
    "    max_french_sequence_length,\n",
    "    english_vocab_size+1,\n",
    "    french_vocab_size+1)\n",
    "\n",
    "embed_rnn_model.fit(tmp_x, preproc_french_sentences, batch_size=1024, epochs=50, validation_split=0.2)\n",
    "\n",
    "# TODO: Print prediction(s)"
   ]
  },
  {
   "cell_type": "code",
   "execution_count": 24,
   "metadata": {},
   "outputs": [
    {
     "name": "stdout",
     "output_type": "stream",
     "text": [
      "--- Original Translation ---\n",
      "new jersey est parfois calme pendant l' automne , et il est neigeux en avril .\n",
      "--- Predicted Translation ---\n",
      "new jersey est parfois calme en automne automne et il est neigeux en avril <PAD> <PAD> <PAD> <PAD> <PAD> <PAD> <PAD>\n"
     ]
    }
   ],
   "source": [
    "print(\"--- Original Translation ---\")\n",
    "print(french_sentences[0])\n",
    "print(\"--- Predicted Translation ---\")\n",
    "print(logits_to_text(embed_rnn_model.predict(tmp_x[:1])[0], french_tokenizer))"
   ]
  },
  {
   "cell_type": "markdown",
   "metadata": {},
   "source": [
    "### Model 3: Bidirectional RNNs (IMPLEMENTATION)\n",
    "![RNN](images/bidirectional.png)\n",
    "One restriction of a RNN is that it can't see the future input, only the past.  This is where bidirectional recurrent neural networks come in.  They are able to see the future data."
   ]
  },
  {
   "cell_type": "code",
   "execution_count": 9,
   "metadata": {},
   "outputs": [
    {
     "name": "stdout",
     "output_type": "stream",
     "text": [
      "Train on 110288 samples, validate on 27573 samples\n",
      "Epoch 1/35\n",
      "110288/110288 [==============================] - 36s 330us/step - loss: 1.8681 - acc: 0.5717 - val_loss: 1.3543 - val_acc: 0.6265\n",
      "Epoch 2/35\n",
      "110288/110288 [==============================] - 34s 308us/step - loss: 1.2487 - acc: 0.6433 - val_loss: 1.1683 - val_acc: 0.6597\n",
      "Epoch 3/35\n",
      "110288/110288 [==============================] - 34s 308us/step - loss: 1.1083 - acc: 0.6713 - val_loss: 1.0655 - val_acc: 0.6767\n",
      "Epoch 4/35\n",
      "110288/110288 [==============================] - 34s 308us/step - loss: 1.0119 - acc: 0.6892 - val_loss: 0.9722 - val_acc: 0.6972\n",
      "Epoch 5/35\n",
      "110288/110288 [==============================] - 34s 307us/step - loss: 0.9423 - acc: 0.7009 - val_loss: 0.9179 - val_acc: 0.7055\n",
      "Epoch 6/35\n",
      "110288/110288 [==============================] - 34s 307us/step - loss: 0.8887 - acc: 0.7104 - val_loss: 0.8639 - val_acc: 0.7124\n",
      "Epoch 7/35\n",
      "110288/110288 [==============================] - 34s 307us/step - loss: 0.8466 - acc: 0.7179 - val_loss: 0.8211 - val_acc: 0.7255\n",
      "Epoch 8/35\n",
      "110288/110288 [==============================] - 34s 307us/step - loss: 0.8015 - acc: 0.7273 - val_loss: 0.7793 - val_acc: 0.7289\n",
      "Epoch 9/35\n",
      "110288/110288 [==============================] - 34s 307us/step - loss: 0.7614 - acc: 0.7378 - val_loss: 0.7599 - val_acc: 0.7420\n",
      "Epoch 10/35\n",
      "110288/110288 [==============================] - 34s 307us/step - loss: 0.7258 - acc: 0.7492 - val_loss: 0.7108 - val_acc: 0.7529\n",
      "Epoch 11/35\n",
      "110288/110288 [==============================] - 34s 307us/step - loss: 0.6922 - acc: 0.7626 - val_loss: 0.6765 - val_acc: 0.7701\n",
      "Epoch 12/35\n",
      "110288/110288 [==============================] - 34s 307us/step - loss: 0.6455 - acc: 0.7844 - val_loss: 0.6268 - val_acc: 0.7942\n",
      "Epoch 13/35\n",
      "110288/110288 [==============================] - 34s 306us/step - loss: 0.6029 - acc: 0.8042 - val_loss: 0.5933 - val_acc: 0.8058\n",
      "Epoch 14/35\n",
      "110288/110288 [==============================] - 34s 307us/step - loss: 0.5686 - acc: 0.8197 - val_loss: 0.5509 - val_acc: 0.8293\n",
      "Epoch 15/35\n",
      "110288/110288 [==============================] - 34s 306us/step - loss: 0.5457 - acc: 0.8278 - val_loss: 0.5280 - val_acc: 0.8407\n",
      "Epoch 16/35\n",
      "110288/110288 [==============================] - 34s 307us/step - loss: 0.5222 - acc: 0.8371 - val_loss: 0.5129 - val_acc: 0.8383\n",
      "Epoch 17/35\n",
      "110288/110288 [==============================] - 34s 306us/step - loss: 0.5177 - acc: 0.8365 - val_loss: 0.4901 - val_acc: 0.8493\n",
      "Epoch 18/35\n",
      "110288/110288 [==============================] - 34s 307us/step - loss: 0.4766 - acc: 0.8538 - val_loss: 0.4723 - val_acc: 0.8548\n",
      "Epoch 19/35\n",
      "110288/110288 [==============================] - 34s 305us/step - loss: 0.4804 - acc: 0.8477 - val_loss: 0.5013 - val_acc: 0.8307\n",
      "Epoch 20/35\n",
      "110288/110288 [==============================] - 34s 307us/step - loss: 0.4544 - acc: 0.8579 - val_loss: 0.4431 - val_acc: 0.8638\n",
      "Epoch 21/35\n",
      "110288/110288 [==============================] - 34s 306us/step - loss: 0.4417 - acc: 0.8621 - val_loss: 0.4345 - val_acc: 0.8626\n",
      "Epoch 22/35\n",
      "110288/110288 [==============================] - 34s 306us/step - loss: 0.4169 - acc: 0.8704 - val_loss: 0.4218 - val_acc: 0.8700\n",
      "Epoch 23/35\n",
      "110288/110288 [==============================] - 34s 307us/step - loss: 0.4666 - acc: 0.8508 - val_loss: 0.4247 - val_acc: 0.8676\n",
      "Epoch 24/35\n",
      "110288/110288 [==============================] - 34s 307us/step - loss: 0.4001 - acc: 0.8761 - val_loss: 0.3998 - val_acc: 0.8771\n",
      "Epoch 25/35\n",
      "110288/110288 [==============================] - 34s 306us/step - loss: 0.3885 - acc: 0.8782 - val_loss: 0.4032 - val_acc: 0.8732\n",
      "Epoch 26/35\n",
      "110288/110288 [==============================] - 34s 306us/step - loss: 0.4144 - acc: 0.8662 - val_loss: 0.3781 - val_acc: 0.8816\n",
      "Epoch 27/35\n",
      "110288/110288 [==============================] - 34s 307us/step - loss: 0.3646 - acc: 0.8850 - val_loss: 0.3699 - val_acc: 0.8842\n",
      "Epoch 28/35\n",
      "110288/110288 [==============================] - 34s 307us/step - loss: 0.3960 - acc: 0.8708 - val_loss: 0.3666 - val_acc: 0.8843\n",
      "Epoch 29/35\n",
      "110288/110288 [==============================] - 34s 307us/step - loss: 0.3495 - acc: 0.8888 - val_loss: 0.3571 - val_acc: 0.8862\n",
      "Epoch 30/35\n",
      "110288/110288 [==============================] - 34s 307us/step - loss: 0.3764 - acc: 0.8771 - val_loss: 0.3445 - val_acc: 0.8900\n",
      "Epoch 31/35\n",
      "110288/110288 [==============================] - 34s 307us/step - loss: 0.3306 - acc: 0.8944 - val_loss: 0.3326 - val_acc: 0.8957\n",
      "Epoch 32/35\n",
      "110288/110288 [==============================] - 34s 307us/step - loss: 0.3240 - acc: 0.8961 - val_loss: 0.3993 - val_acc: 0.8632\n",
      "Epoch 33/35\n",
      "110288/110288 [==============================] - 34s 307us/step - loss: 0.3660 - acc: 0.8797 - val_loss: 0.3304 - val_acc: 0.8930\n",
      "Epoch 34/35\n",
      "110288/110288 [==============================] - 34s 307us/step - loss: 0.3223 - acc: 0.8951 - val_loss: 0.3254 - val_acc: 0.8960\n",
      "Epoch 35/35\n",
      "110288/110288 [==============================] - 34s 307us/step - loss: 0.3534 - acc: 0.8829 - val_loss: 0.3205 - val_acc: 0.8956\n"
     ]
    },
    {
     "data": {
      "text/plain": [
       "<keras.callbacks.History at 0x7fabe068aef0>"
      ]
     },
     "execution_count": 9,
     "metadata": {},
     "output_type": "execute_result"
    }
   ],
   "source": [
    "def bd_model(input_shape, output_sequence_length, english_vocab_size, french_vocab_size):\n",
    "    \"\"\"\n",
    "    Build and train a bidirectional RNN model on x and y\n",
    "    :param input_shape: Tuple of input shape\n",
    "    :param output_sequence_length: Length of output sequence\n",
    "    :param english_vocab_size: Number of unique English words in the dataset\n",
    "    :param french_vocab_size: Number of unique French words in the dataset\n",
    "    :return: Keras model built, but not trained\n",
    "    \"\"\"\n",
    "    # Implement\n",
    "    \n",
    "    learning_rate = 1e-3\n",
    "\n",
    "    input_seq = Input(input_shape[1:])\n",
    "    \n",
    "    #embed = Embedding(english_vocab_size, 128)(input_seq)\n",
    "    \n",
    "    rnn = Bidirectional(GRU(512, return_sequences=True))(input_seq)\n",
    "    \n",
    "    logits = TimeDistributed(Dense(french_vocab_size))(rnn)\n",
    "\n",
    "    model = Model(input_seq, Activation('softmax')(logits))\n",
    "    \n",
    "    model.compile(loss=sparse_categorical_crossentropy,\n",
    "                  optimizer=Adam(learning_rate),\n",
    "                  metrics=['accuracy'])\n",
    "    \n",
    "    return model\n",
    "    \n",
    "tests.test_bd_model(bd_model)\n",
    "\n",
    "tmp_x = pad(preproc_english_sentences, max_french_sequence_length)\n",
    "tmp_x = tmp_x.reshape((-1, preproc_french_sentences.shape[-2], 1))\n",
    "\n",
    "bd_rnn_model = bd_model(\n",
    "    tmp_x.shape,\n",
    "    max_french_sequence_length,\n",
    "    english_vocab_size+1,\n",
    "    french_vocab_size+1)\n",
    "\n",
    "bd_rnn_model.fit(tmp_x, preproc_french_sentences, batch_size=1024, epochs=35, validation_split=0.2)\n",
    "\n",
    "# Train and Print prediction(s)"
   ]
  },
  {
   "cell_type": "code",
   "execution_count": 10,
   "metadata": {},
   "outputs": [
    {
     "name": "stdout",
     "output_type": "stream",
     "text": [
      "--- Original Translation ---\n",
      "new jersey est parfois calme pendant l' automne , et il est neigeux en avril .\n",
      "--- Predicted Translation ---\n",
      "new jersey est parfois calme pendant mois de et il est neigeux en avril <PAD> <PAD> <PAD> <PAD> <PAD> <PAD> <PAD>\n"
     ]
    }
   ],
   "source": [
    "print(\"--- Original Translation ---\")\n",
    "print(french_sentences[0])\n",
    "print(\"--- Predicted Translation ---\")\n",
    "print(logits_to_text(bd_rnn_model.predict(tmp_x[:1])[0], french_tokenizer))"
   ]
  },
  {
   "cell_type": "markdown",
   "metadata": {},
   "source": [
    "### Model 4: Encoder-Decoder (OPTIONAL)\n",
    "Time to look at encoder-decoder models.  This model is made up of an encoder and decoder. The encoder creates a matrix representation of the sentence.  The decoder takes this matrix as input and predicts the translation as output.\n",
    "\n",
    "Create an encoder-decoder model in the cell below."
   ]
  },
  {
   "cell_type": "code",
   "execution_count": null,
   "metadata": {},
   "outputs": [],
   "source": [
    "def encdec_model(input_shape, output_sequence_length, english_vocab_size, french_vocab_size):\n",
    "    \"\"\"\n",
    "    Build and train an encoder-decoder model on x and y\n",
    "    :param input_shape: Tuple of input shape\n",
    "    :param output_sequence_length: Length of output sequence\n",
    "    :param english_vocab_size: Number of unique English words in the dataset\n",
    "    :param french_vocab_size: Number of unique French words in the dataset\n",
    "    :return: Keras model built, but not trained\n",
    "    \"\"\"\n",
    "    # OPTIONAL: Implement\n",
    "    return None\n",
    "tests.test_encdec_model(encdec_model)\n",
    "\n",
    "\n",
    "# OPTIONAL: Train and Print prediction(s)"
   ]
  },
  {
   "cell_type": "markdown",
   "metadata": {},
   "source": [
    "### Model 5: Custom (IMPLEMENTATION)\n",
    "Use everything you learned from the previous models to create a model that incorporates embedding and a bidirectional rnn into one model."
   ]
  },
  {
   "cell_type": "code",
   "execution_count": 27,
   "metadata": {},
   "outputs": [
    {
     "name": "stdout",
     "output_type": "stream",
     "text": [
      "Final Model Loaded\n"
     ]
    }
   ],
   "source": [
    "def model_final(input_shape, output_sequence_length, english_vocab_size, french_vocab_size):\n",
    "    \"\"\"\n",
    "    Build and train a model that incorporates embedding, encoder-decoder, and bidirectional RNN on x and y\n",
    "    :param input_shape: Tuple of input shape\n",
    "    :param output_sequence_length: Length of output sequence\n",
    "    :param english_vocab_size: Number of unique English words in the dataset\n",
    "    :param french_vocab_size: Number of unique French words in the dataset\n",
    "    :return: Keras model built, but not trained\n",
    "    \"\"\"\n",
    "    # TODO: Implement\n",
    "    \n",
    "    input_layer = Input(shape=input_shape[1:])\n",
    "    embedding_layer = Embedding(english_vocab_size*2, english_vocab_size)(input_layer)\n",
    "    x = Bidirectional(GRU(256))(embedding_layer)\n",
    "    x = Dense(256, activation='relu')(x)\n",
    "    x = RepeatVector(output_sequence_length)(x)\n",
    "    x = Bidirectional(GRU(256, return_sequences=True))(x)\n",
    "    output_layer = TimeDistributed(Dense(french_vocab_size, activation='softmax'))(x)\n",
    "    \n",
    "    model = Model(inputs=input_layer, outputs=output_layer)\n",
    "    \n",
    "    # Compile the model\n",
    "    learning_rate = 0.005\n",
    "    model.compile(loss=sparse_categorical_crossentropy,\n",
    "                  optimizer=Adam(lr=learning_rate),\n",
    "                  metrics=['accuracy'])\n",
    "    return model\n",
    "    \n",
    "tests.test_model_final(model_final)\n",
    "\n",
    "\n",
    "print('Final Model Loaded')\n",
    "# TODO: Train the final model"
   ]
  },
  {
   "cell_type": "markdown",
   "metadata": {},
   "source": [
    "## Prediction (IMPLEMENTATION)"
   ]
  },
  {
   "cell_type": "code",
   "execution_count": 28,
   "metadata": {},
   "outputs": [
    {
     "name": "stdout",
     "output_type": "stream",
     "text": [
      "Train on 110288 samples, validate on 27573 samples\n",
      "Epoch 1/10\n",
      "110288/110288 [==============================] - 36s 330us/step - loss: 2.1038 - acc: 0.5296 - val_loss: 1.3574 - val_acc: 0.6325\n",
      "Epoch 2/10\n",
      "110288/110288 [==============================] - 35s 319us/step - loss: 1.0746 - acc: 0.6971 - val_loss: 0.8909 - val_acc: 0.7340\n",
      "Epoch 3/10\n",
      "110288/110288 [==============================] - 35s 319us/step - loss: 0.7343 - acc: 0.7767 - val_loss: 0.5995 - val_acc: 0.8166\n",
      "Epoch 4/10\n",
      "110288/110288 [==============================] - 35s 319us/step - loss: 0.4874 - acc: 0.8540 - val_loss: 0.3866 - val_acc: 0.8854\n",
      "Epoch 5/10\n",
      "110288/110288 [==============================] - 35s 320us/step - loss: 0.3693 - acc: 0.8921 - val_loss: 0.2719 - val_acc: 0.9252\n",
      "Epoch 6/10\n",
      "110288/110288 [==============================] - 35s 320us/step - loss: 0.2076 - acc: 0.9433 - val_loss: 0.1961 - val_acc: 0.9457\n",
      "Epoch 7/10\n",
      "110288/110288 [==============================] - 35s 320us/step - loss: 0.1480 - acc: 0.9590 - val_loss: 0.1334 - val_acc: 0.9633\n",
      "Epoch 8/10\n",
      "110288/110288 [==============================] - 35s 320us/step - loss: 0.1132 - acc: 0.9680 - val_loss: 0.1119 - val_acc: 0.9690\n",
      "Epoch 9/10\n",
      "110288/110288 [==============================] - 35s 320us/step - loss: 0.1071 - acc: 0.9696 - val_loss: 0.1163 - val_acc: 0.9663\n",
      "Epoch 10/10\n",
      "110288/110288 [==============================] - 35s 320us/step - loss: 0.0961 - acc: 0.9723 - val_loss: 0.1037 - val_acc: 0.9704\n",
      "Sample 1:\n",
      "il a vu un vieux camion jaune <PAD> <PAD> <PAD> <PAD> <PAD> <PAD> <PAD> <PAD> <PAD> <PAD> <PAD> <PAD> <PAD> <PAD>\n",
      "Il a vu un vieux camion jaune\n",
      "Sample 2:\n",
      "new jersey est parfois calme pendant l' automne et il est neigeux en avril <PAD> <PAD> <PAD> <PAD> <PAD> <PAD> <PAD>\n",
      "new jersey est parfois calme pendant l' automne et il est neigeux en avril <PAD> <PAD> <PAD> <PAD> <PAD> <PAD> <PAD>\n"
     ]
    }
   ],
   "source": [
    "def final_predictions(x, y, x_tk, y_tk):\n",
    "    \"\"\"\n",
    "    Gets predictions using the final model\n",
    "    :param x: Preprocessed English data\n",
    "    :param y: Preprocessed French data\n",
    "    :param x_tk: English tokenizer\n",
    "    :param y_tk: French tokenizer\n",
    "    \"\"\"\n",
    "    # TODO: Train neural network using model_final\n",
    "    model = model_final(x.shape, \n",
    "                        y.shape[1],\n",
    "                        len(x_tk.word_index) + 1,\n",
    "                        len(y_tk.word_index) + 1)\n",
    "\n",
    "    model.fit(x, y, batch_size=1024, epochs=10, validation_split=0.2)\n",
    "    \n",
    "    \n",
    "    ## DON'T EDIT ANYTHING BELOW THIS LINE\n",
    "    y_id_to_word = {value: key for key, value in y_tk.word_index.items()}\n",
    "    y_id_to_word[0] = '<PAD>'\n",
    "\n",
    "    sentence = 'he saw a old yellow truck'\n",
    "    sentence = [x_tk.word_index[word] for word in sentence.split()]\n",
    "    sentence = pad_sequences([sentence], maxlen=x.shape[-1], padding='post')\n",
    "    sentences = np.array([sentence[0], x[0]])\n",
    "    predictions = model.predict(sentences, len(sentences))\n",
    "\n",
    "    print('Sample 1:')\n",
    "    print(' '.join([y_id_to_word[np.argmax(x)] for x in predictions[0]]))\n",
    "    print('Il a vu un vieux camion jaune')\n",
    "    print('Sample 2:')\n",
    "    print(' '.join([y_id_to_word[np.argmax(x)] for x in predictions[1]]))\n",
    "    print(' '.join([y_id_to_word[np.max(x)] for x in y[0]]))\n",
    "\n",
    "\n",
    "final_predictions(preproc_english_sentences, preproc_french_sentences, english_tokenizer, french_tokenizer)"
   ]
  },
  {
   "cell_type": "markdown",
   "metadata": {},
   "source": [
    "## Submission\n",
    "When you're ready to submit, complete the following steps:\n",
    "1. Review the [rubric](https://review.udacity.com/#!/rubrics/1004/view) to ensure your submission meets all requirements to pass\n",
    "2. Generate an HTML version of this notebook\n",
    "\n",
    "  - Run the next cell to attempt automatic generation (this is the recommended method in Workspaces)\n",
    "  - Navigate to **FILE -> Download as -> HTML (.html)**\n",
    "  - Manually generate a copy using `nbconvert` from your shell terminal\n",
    "```\n",
    "$ pip install nbconvert\n",
    "$ python -m nbconvert machine_translation.ipynb\n",
    "```\n",
    "  \n",
    "3. Submit the project\n",
    "\n",
    "  - If you are in a Workspace, simply click the \"Submit Project\" button (bottom towards the right)\n",
    "  \n",
    "  - Otherwise, add the following files into a zip archive and submit them \n",
    "  - `helper.py`\n",
    "  - `machine_translation.ipynb`\n",
    "  - `machine_translation.html`\n",
    "    - You can export the notebook by navigating to **File -> Download as -> HTML (.html)**."
   ]
  },
  {
   "cell_type": "markdown",
   "metadata": {},
   "source": [
    "### Generate the html\n",
    "\n",
    "**Save your notebook before running the next cell to generate the HTML output.** Then submit your project."
   ]
  },
  {
   "cell_type": "code",
   "execution_count": 11,
   "metadata": {},
   "outputs": [
    {
     "data": {
      "text/plain": [
       "['[NbConvertApp] Converting notebook machine_translation.ipynb to html',\n",
       " '[NbConvertApp] Writing 383016 bytes to machine_translation.html',\n",
       " '[NbConvertApp] Converting notebook machine_translation-zh.ipynb to html',\n",
       " '[NbConvertApp] Writing 328614 bytes to machine_translation-zh.html']"
      ]
     },
     "execution_count": 11,
     "metadata": {},
     "output_type": "execute_result"
    }
   ],
   "source": [
    "# Save before you run this cell!\n",
    "!!jupyter nbconvert *.ipynb"
   ]
  },
  {
   "cell_type": "markdown",
   "metadata": {},
   "source": [
    "## Optional Enhancements\n",
    "\n",
    "This project focuses on learning various network architectures for machine translation, but we don't evaluate the models according to best practices by splitting the data into separate test & training sets -- so the model accuracy is overstated. Use the [`sklearn.model_selection.train_test_split()`](http://scikit-learn.org/stable/modules/generated/sklearn.model_selection.train_test_split.html) function to create separate training & test datasets, then retrain each of the models using only the training set and evaluate the prediction accuracy using the hold out test set. Does the \"best\" model change?"
   ]
  }
 ],
 "metadata": {
  "kernelspec": {
   "display_name": "Python 3",
   "language": "python",
   "name": "python3"
  },
  "language_info": {
   "codemirror_mode": {
    "name": "ipython",
    "version": 3
   },
   "file_extension": ".py",
   "mimetype": "text/x-python",
   "name": "python",
   "nbconvert_exporter": "python",
   "pygments_lexer": "ipython3",
   "version": "3.7.3"
  }
 },
 "nbformat": 4,
 "nbformat_minor": 1
}
